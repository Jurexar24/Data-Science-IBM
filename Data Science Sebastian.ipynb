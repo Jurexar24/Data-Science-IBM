{
 "cells": [
  {
   "cell_type": "markdown",
   "id": "902d628e-e924-46f7-a2fd-bf1fe8f0e440",
   "metadata": {
    "tags": []
   },
   "source": [
    "#### Add your code below following the instructions given in the course"
   ]
  },
  {
   "cell_type": "markdown",
   "id": "01ad93d4-0f48-4471-822c-716ebf7ad7f0",
   "metadata": {
    "tags": []
   },
   "source": [
    "# Data Science Sebastian"
   ]
  },
  {
   "cell_type": "markdown",
   "id": "391ba6c6-2dfa-4fde-ada0-eb61761fceb8",
   "metadata": {},
   "source": [
    "In this notebook, Data Science Tools and Ecosystem are summarized."
   ]
  },
  {
   "cell_type": "markdown",
   "id": "30f5b98a-3c4f-4755-bfa3-9f5af5a48d3f",
   "metadata": {},
   "source": [
    "**Objectives:**"
   ]
  },
  {
   "cell_type": "markdown",
   "id": "adcdfa71-d545-49f1-852b-0050a46c9bf8",
   "metadata": {
    "tags": []
   },
   "source": [
    "* List popular languages for Data Science\n",
    "* List popular libraries for Data Science\n",
    "* List popular Tools for Data Science"
   ]
  },
  {
   "cell_type": "markdown",
   "id": "83cb35d2-c164-47d6-9356-2fdd68a0dc9a",
   "metadata": {
    "tags": []
   },
   "source": [
    "Some of the popular languages that Data Scientists use are:"
   ]
  },
  {
   "cell_type": "markdown",
   "id": "245b6e11-f361-455a-882c-d03bee21e9f0",
   "metadata": {},
   "source": [
    "1. Python\n",
    "1. R\n",
    "1. SQL"
   ]
  },
  {
   "cell_type": "markdown",
   "id": "5cfd2ae5-c3ee-4c39-a201-ecd1122de87b",
   "metadata": {
    "tags": []
   },
   "source": [
    "Some of the commonly used libraries used by Data Scientists include:"
   ]
  },
  {
   "cell_type": "markdown",
   "id": "29cb4124-9205-48b9-b85e-54aaafc2bee8",
   "metadata": {},
   "source": [
    "1. Pandas\n",
    "1. ggplot\n",
    "1. numpy"
   ]
  },
  {
   "cell_type": "markdown",
   "id": "8d7f1215-5d1f-4d59-bb75-49eed63e6c3a",
   "metadata": {},
   "source": [
    "|Data Science Tools|\n",
    "|---|\n",
    "|Jupyter|\n",
    "|R studio|\n",
    "|Hadoop|\n"
   ]
  },
  {
   "cell_type": "markdown",
   "id": "46b8b540-731d-4836-a15d-9d6ab6ac3302",
   "metadata": {},
   "source": [
    "### Below are a few examples of evaluating arithmetic expressions in Python"
   ]
  },
  {
   "cell_type": "code",
   "execution_count": 18,
   "id": "d1ec56d8-4718-4c8e-9dfc-6178e041354c",
   "metadata": {
    "tags": []
   },
   "outputs": [],
   "source": [
    "# \"This a simple arithmetic expression to mutiply then add integers\""
   ]
  },
  {
   "cell_type": "code",
   "execution_count": 16,
   "id": "c02873be-5382-4fda-8cb1-664ac209633e",
   "metadata": {
    "tags": []
   },
   "outputs": [
    {
     "data": {
      "text/plain": [
       "17"
      ]
     },
     "execution_count": 16,
     "metadata": {},
     "output_type": "execute_result"
    }
   ],
   "source": [
    "(3*4)+5"
   ]
  },
  {
   "cell_type": "code",
   "execution_count": null,
   "id": "33096e0b-42f8-4f44-9dab-247290290135",
   "metadata": {
    "tags": []
   },
   "outputs": [],
   "source": [
    "# \"This will convert 200 minutes to hours by diving by 60\""
   ]
  },
  {
   "cell_type": "code",
   "execution_count": 17,
   "id": "3ebd374f-2df4-4bfd-8d78-381fe34b5bd4",
   "metadata": {
    "tags": []
   },
   "outputs": [
    {
     "data": {
      "text/plain": [
       "3.3333333333333335"
      ]
     },
     "execution_count": 17,
     "metadata": {},
     "output_type": "execute_result"
    }
   ],
   "source": [
    "200/60"
   ]
  },
  {
   "cell_type": "markdown",
   "id": "8b7008ea-6af6-44dc-9caa-48aa0fee5805",
   "metadata": {},
   "source": [
    "## Author:\n",
    "-------"
   ]
  },
  {
   "cell_type": "markdown",
   "id": "5638dfa6-dbfa-4fd6-b2fd-79a070ef6a95",
   "metadata": {
    "tags": []
   },
   "source": [
    "Sebastian Juri Aguirre"
   ]
  }
 ],
 "metadata": {
  "kernelspec": {
   "display_name": "Python",
   "language": "python",
   "name": "conda-env-python-py"
  },
  "language_info": {
   "codemirror_mode": {
    "name": "ipython",
    "version": 3
   },
   "file_extension": ".py",
   "mimetype": "text/x-python",
   "name": "python",
   "nbconvert_exporter": "python",
   "pygments_lexer": "ipython3",
   "version": "3.7.12"
  }
 },
 "nbformat": 4,
 "nbformat_minor": 5
}
